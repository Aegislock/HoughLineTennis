{
 "cells": [
  {
   "cell_type": "code",
   "execution_count": 3,
   "metadata": {},
   "outputs": [],
   "source": [
    "import cv2 \n",
    "from matplotlib import pyplot as plt\n",
    "import numpy as np"
   ]
  },
  {
   "cell_type": "code",
   "execution_count": 18,
   "metadata": {},
   "outputs": [],
   "source": [
    "class TennisCourtReference():\n",
    "    def __init__(self, blank_image_path):\n",
    "        self.point1 = (0 + 60, 0 + 60)\n",
    "        self.point2 = (45 + 60, 0 + 60)\n",
    "        self.point3 = (315 + 60, 0 + 60)\n",
    "        self.point4 = (360 + 60, 0 + 60)\n",
    "        self.point5 = (0 + 60, 180 + 60)\n",
    "        self.point6 = (45 + 60, 180 + 60)\n",
    "        self.point7 = (180 + 60, 180 + 60)\n",
    "        self.point8 = (315 + 60, 180 + 60)\n",
    "        self.point9 = (360 + 60, 180 + 60)\n",
    "        self.point10 = (0 + 60, 600 + 60)\n",
    "        self.point11 = (45 + 60, 600 + 60)\n",
    "        self.point12 = (180 + 60, 600 + 60)\n",
    "        self.point13 = (315 + 60, 600 + 60)\n",
    "        self.point14 = (360 + 60, 600 + 60)\n",
    "        self.point15 = (0 + 60, 780 + 60)\n",
    "        self.point16 = (45 + 60, 780 + 60)\n",
    "        self.point17 = (315 + 60, 780 + 60)\n",
    "        self.point18 = (360 + 60, 780 + 60)\n",
    "        self.horizontal_lines = (((self.point1), (self.point4)), \n",
    "                                 ((self.point5), (self.point9)), \n",
    "                                 ((self.point10), (self.point14)), \n",
    "                                 ((self.point15), (self.point18)))\n",
    "        self.vertical_lines = (((self.point1), (self.point15)), \n",
    "                               ((self.point2), (self.point16)), \n",
    "                               ((self.point3), (self.point17)), \n",
    "                               ((self.point4), (self.point18)))\n",
    "        self.blank_image = cv2.imread(blank_image_path)\n",
    "    def draw_lines(self, thickness, circles=False, color=(255, 255, 255)):\n",
    "        img = self.blank_image\n",
    "        cv2.line(img, (self.point1), (self.point4), color, thickness)\n",
    "        cv2.line(img, (self.point5), (self.point9), color, thickness)\n",
    "        cv2.line(img, (self.point10), (self.point14), color, thickness)\n",
    "        cv2.line(img, (self.point15), (self.point18), color, thickness)\n",
    "        cv2.line(img, (self.point1), (self.point15) , color, thickness)\n",
    "        cv2.line(img, (self.point2), (self.point16) , color, thickness)\n",
    "        cv2.line(img, (self.point7), (self.point12) , color, thickness)\n",
    "        cv2.line(img, (self.point3), (self.point17) , color, thickness)\n",
    "        cv2.line(img, (self.point4), (self.point18) , color, thickness)\n",
    "        if circles:\n",
    "            cv2.circle(img, self.point1, 5, (255, 0, 0), -1)\n",
    "            cv2.circle(img, self.point2, 5, (255, 0, 0), -1)\n",
    "            cv2.circle(img, self.point3, 5, (255, 0, 0), -1)\n",
    "            cv2.circle(img, self.point4, 5, (255, 0, 0), -1)\n",
    "            cv2.circle(img, self.point5, 5, (255, 0, 0), -1)\n",
    "            cv2.circle(img, self.point6, 5, (255, 0, 0), -1)\n",
    "            cv2.circle(img, self.point7, 5, (255, 0, 0), -1)\n",
    "            cv2.circle(img, self.point8, 5, (255, 0, 0), -1)\n",
    "            cv2.circle(img, self.point9, 5, (255, 0, 0), -1)\n",
    "            cv2.circle(img, self.point10, 5, (255, 0, 0), -1)\n",
    "            cv2.circle(img, self.point11, 5, (255, 0, 0), -1)\n",
    "            cv2.circle(img, self.point12, 5, (255, 0, 0), -1)\n",
    "            cv2.circle(img, self.point13, 5, (255, 0, 0), -1)\n",
    "            cv2.circle(img, self.point14, 5, (255, 0, 0), -1)\n",
    "            cv2.circle(img, self.point15, 5, (255, 0, 0), -1)\n",
    "            cv2.circle(img, self.point16, 5, (255, 0, 0), -1)\n",
    "            cv2.circle(img, self.point17, 5, (255, 0, 0), -1)\n",
    "            cv2.circle(img, self.point18, 5, (255, 0, 0), -1)\n",
    "        return img"
   ]
  },
  {
   "cell_type": "code",
   "execution_count": 19,
   "metadata": {},
   "outputs": [],
   "source": [
    "court= TennisCourtReference('court_reference_background\\\\blank_black.png')"
   ]
  },
  {
   "cell_type": "code",
   "execution_count": 23,
   "metadata": {},
   "outputs": [],
   "source": [
    "new_image = court.draw_lines(thickness = 3, circles = True, color = (0, 255, 0))"
   ]
  },
  {
   "cell_type": "code",
   "execution_count": 24,
   "metadata": {},
   "outputs": [
    {
     "data": {
      "text/plain": [
       "<matplotlib.image.AxesImage at 0x1b1e0521780>"
      ]
     },
     "execution_count": 24,
     "metadata": {},
     "output_type": "execute_result"
    },
    {
     "data": {
      "image/png": "[encoded data removed]",
      "text/plain": [
       "<Figure size 640x480 with 1 Axes>"
      ]
     },
     "metadata": {},
     "output_type": "display_data"
    }
   ],
   "source": [
    "plt.imshow(new_image)"
   ]
  },
  {
   "cell_type": "code",
   "execution_count": 25,
   "metadata": {},
   "outputs": [
    {
     "data": {
      "text/plain": [
       "True"
      ]
     },
     "execution_count": 25,
     "metadata": {},
     "output_type": "execute_result"
    }
   ],
   "source": [
    "cv2.imwrite(\"court_reference_background\\\\court_lines_green.png\", new_image)"
   ]
  },
  {
   "cell_type": "code",
   "execution_count": null,
   "metadata": {},
   "outputs": [],
   "source": []
  }
 ],
 "metadata": {
  "kernelspec": {
   "display_name": "base",
   "language": "python",
   "name": "python3"
  },
  "language_info": {
   "codemirror_mode": {
    "name": "ipython",
    "version": 3
   },
   "file_extension": ".py",
   "mimetype": "text/x-python",
   "name": "python",
   "nbconvert_exporter": "python",
   "pygments_lexer": "ipython3",
   "version": "3.10.9"
  }
 },
 "nbformat": 4,
 "nbformat_minor": 2
}
