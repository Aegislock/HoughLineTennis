{
 "cells": [
  {
   "cell_type": "code",
   "execution_count": 258,
   "metadata": {},
   "outputs": [],
   "source": [
    "import cv2 \n",
    "import numpy as np\n",
    "import matplotlib.pyplot as plt"
   ]
  },
  {
   "cell_type": "code",
   "execution_count": 259,
   "metadata": {},
   "outputs": [],
   "source": [
    "img = cv2.imread('input_images\\\\wimbledon_2019_whitened.png', cv2.IMREAD_GRAYSCALE)"
   ]
  },
  {
   "cell_type": "code",
   "execution_count": 260,
   "metadata": {},
   "outputs": [],
   "source": [
    "lsd = cv2.createLineSegmentDetector(cv2.LSD_REFINE_NONE)\n",
    "lines = lsd.detect(img)[0]"
   ]
  },
  {
   "cell_type": "code",
   "execution_count": 262,
   "metadata": {},
   "outputs": [],
   "source": [
    "drawn_img = np.copy(img)  # Copy the original image to draw on\n",
    "drawn_img = cv2.cvtColor(drawn_img, cv2.COLOR_GRAY2BGR)  # Convert to color image to draw colored lines"
   ]
  },
  {
   "cell_type": "code",
   "execution_count": 263,
   "metadata": {},
   "outputs": [],
   "source": [
    "candidates = vertical_lines_near_center(lines, img.shape[1], img.shape[0])"
   ]
  },
  {
   "cell_type": "code",
   "execution_count": 264,
   "metadata": {},
   "outputs": [],
   "source": [
    "# Function to check if a line is vertical\n",
    "def is_vertical(line, threshold=2):\n",
    "    x1, y1, x2, y2 = line[0]\n",
    "    return abs(x1 - x2) < threshold\n",
    "\n",
    "# Function to find vertical lines near the center of the image\n",
    "def vertical_lines_near_center(lines, image_width, image_height, h_margin=0.1, v_margin=0.2):\n",
    "    vertical_lines_near_center = []\n",
    "\n",
    "    center_x = image_width / 2\n",
    "    margin_x = image_width * h_margin\n",
    "\n",
    "    center_y = image_height / 2\n",
    "    margin_y = image_height * v_margin\n",
    "\n",
    "    # Define the center region\n",
    "    center_left = center_x - margin_x\n",
    "    center_right = center_x + margin_x\n",
    "\n",
    "    center_top = center_y - margin_y\n",
    "    center_bottom = center_y + margin_y\n",
    "\n",
    "    # Filter lines to find vertical lines near the center\n",
    "    for line in lines:\n",
    "        if is_vertical(line) and (center_left <= line[0][0] <= center_right) and (center_top <= line[0][1] <= center_bottom and center_top <= line[0][3] <= center_bottom):\n",
    "            vertical_lines_near_center.append(line)\n",
    "\n",
    "    return vertical_lines_near_center"
   ]
  },
  {
   "cell_type": "code",
   "execution_count": 265,
   "metadata": {},
   "outputs": [],
   "source": [
    "for line in candidates:\n",
    "    x0, y0, x1, y1 = map(int, line[0])\n",
    "    cv2.line(drawn_img, (x0, y0), (x1, y1), (255,0,0), 2)"
   ]
  },
  {
   "cell_type": "code",
   "execution_count": 295,
   "metadata": {},
   "outputs": [],
   "source": [
    "lowest_y = 0\n",
    "lowest_point = None\n",
    "for line in candidates:\n",
    "    x0, y0, x1, y1 = map(int, line[0])\n",
    "    if (y0 > y1):\n",
    "        if (y0 > lowest_y):\n",
    "            lowest_y = y0\n",
    "            lowest_point = (x0, y0)\n",
    "    else:\n",
    "        if (y1 > lowest_y):\n",
    "            lowest_y = y1\n",
    "            lowest_point = (x1, y1)"
   ]
  },
  {
   "cell_type": "code",
   "execution_count": null,
   "metadata": {},
   "outputs": [],
   "source": [
    "cv2.circle(drawn_img, lowest_point, radius=3, color=(0, 255, 0), thickness=-1)\n",
    "plt.imshow(drawn_img)"
   ]
  }
 ],
 "metadata": {
  "kernelspec": {
   "display_name": "base",
   "language": "python",
   "name": "python3"
  },
  "language_info": {
   "codemirror_mode": {
    "name": "ipython",
    "version": 3
   },
   "file_extension": ".py",
   "mimetype": "text/x-python",
   "name": "python",
   "nbconvert_exporter": "python",
   "pygments_lexer": "ipython3",
   "version": "3.10.9"
  }
 },
 "nbformat": 4,
 "nbformat_minor": 2
}
